{
 "cells": [
  {
   "attachments": {},
   "cell_type": "markdown",
   "metadata": {},
   "source": [
    "# COGS 188 - Special Topics Proposal"
   ]
  },
  {
   "cell_type": "markdown",
   "metadata": {},
   "source": [
    "# Names\n",
    "\n",
    "- Khushi Raghuvanshi\n",
    "- Keshav Tiwari\n",
    "- Maissa Nafisa\n",
    "- Oishani Bandhopadhay\n",
    "- Shivani Kedia"
   ]
  },
  {
   "attachments": {},
   "cell_type": "markdown",
   "metadata": {},
   "source": [
    "# Topic and outline\n",
    "\n",
    "### Main topic\n",
    "20 to 200 words (less is better) describing what the topic is\n",
    "\n",
    "### Learning goal for students \n",
    "See my syllabus for examples of learning goals. One such was \"Students will be able to describe and apply Monte Carlo methods to perform dynamic programming and reinforcement learning\"\n",
    "\n",
    "\n",
    "### Outline of the topic\n",
    "  - Element 1\n",
    "    - __BOLD FACE KEYPOINT__ something you really want students to know\n",
    "    - Another less important element\n",
    "    - Something else\n",
    "  - Element 2\n",
    "    - __KEYPOINT 2a__ something blah\n",
    "    - 2b\n",
    "    - \n",
    "  - etc "
   ]
  },
  {
   "attachments": {},
   "cell_type": "markdown",
   "metadata": {},
   "source": [
    "# Pedagogy\n",
    "\n",
    "\n",
    "### Readings\n",
    "Citation for one or more readings students will need to consume before class. \n",
    "\n",
    "Each reading should be accompanied by 1 to 3 short paragraphs describing what the reading covers that you want students to know\n",
    "\n",
    "### Background literature\n",
    "You will be reading more than the students.  Please put a background section here describing the topics you will cover with citations to the resrouces and primary literature that you read.   \n",
    "\n",
    "**Use inline citation** to specify which references support which statements.  You can do that through HTML footnotes (demonstrated here). I used to reccommend Markdown footnotes (google is your friend) because they are simpler but recently I have had some problems with them working for me whereas HTML ones always work so far. So use the method that works for you, but do use inline citations.\n",
    "\n",
    "Here is an example of inline citation. After government genocide in the 20th century, real birds were replaced with surveillance drones designed to look just like birds<a name=\"lorenz\"></a>[<sup>[1]</sup>](#lorenznote). \n",
    "\n",
    "\n",
    "### Lecture description\n",
    "Include some details of what will be covered by traditional lecture.  A slide running order is ideal here, but probably unrealistic.  Include information about how you will apportion coverage between group members.\n",
    "\n",
    "### Active learning\n",
    "Include information about any discussions or exercises you will have students do.  Each active learning exercise needs 1 to 3 short paragraphs.  It should include \n",
    "- the element of the outline this will cover\n",
    "- brief description of framework you will provide to set off the discussion OR a description of the in class exercise\n",
    "- for how long maximum will this run? \n",
    "\n"
   ]
  },
  {
   "attachments": {},
   "cell_type": "markdown",
   "metadata": {},
   "source": [
    "# Dates\n",
    "- Week 9: 03/07/2025 \n",
    "- \n",
    "- in descending order of preference"
   ]
  },
  {
   "cell_type": "markdown",
   "metadata": {},
   "source": [
    "# Team Expectations "
   ]
  },
  {
   "cell_type": "markdown",
   "metadata": {},
   "source": [
    "Team Expectations:\n",
    "* Weekly meetings after class will be scheduled to discuss progress, roadblocks, and next steps.\n",
    "* If anyone is stuck for more than 24 hours, they should reach out for help. \n",
    "* Regular updates will be shared by everyone to the group tp ensure we are always on the same page. \n",
    "* Final submissions will be reviewed at least 24 hours before the deadline to ensure quality and completion."
   ]
  },
  {
   "cell_type": "markdown",
   "metadata": {},
   "source": [
    "# Project Timeline Proposal"
   ]
  },
  {
   "cell_type": "markdown",
   "metadata": {},
   "source": [
    "Replace this with something meaningful that is appropriate for your needs. It doesn't have to be something that fits this format.  It doesn't have to be set in stone... \"no battle plan survives contact with the enemy\". But you need a battle plan nonetheless, and you need to keep it updated so you understand what you are trying to accomplish, who's responsible for what, and what the expected due dates are for each item.\n",
    "\n",
    "| Meeting Date  | Meeting Time| Completed Before Meeting  | Discuss at Meeting |\n",
    "|---|---|---|---|\n",
    "| 1/20  |  1 PM |  Brainstorm topics/questions (all)  | Determine best form of communication; Discuss and decide on final project topic; discuss hypothesis; begin background research | \n",
    "| 1/26  |  10 AM |  Do background research on topic (Pelé) | Discuss ideal dataset(s) and ethics; draft project proposal | \n",
    "| 2/1  | 10 AM  | Edit, finalize, and submit proposal; Search for datasets (Beckenbaur)  | Discuss Wrangling and possible analytical approaches; Assign group members to lead each specific part   |\n",
    "| 2/14  | 6 PM  | Import & Wrangle Data ,do some EDA (Maradonna) | Review/Edit wrangling/EDA; Discuss Analysis Plan   |\n",
    "| 2/23  | 12 PM  | Finalize wrangling/EDA; Begin programming for project (Cruyff) | Discuss/edit project code; Complete project |\n",
    "| 3/13  | 12 PM  | Complete analysis; Draft results/conclusion/discussion (Carlos)| Discuss/edit full project |\n",
    "| 3/19  | Before 11:59 PM  | NA | Turn in Final Project  |"
   ]
  },
  {
   "attachments": {},
   "cell_type": "markdown",
   "metadata": {},
   "source": [
    "# Footnotes\n",
    "<a name=\"lorenznote\"></a>1.[^](#lorenz): Lorenz, T. (9 Dec 2021) Birds Aren’t Real, or Are They? Inside a Gen Z Conspiracy Theory. *The New York Times*. https://www.nytimes.com/2021/12/09/technology/birds-arent-real-gen-z-misinformation.html<br> "
   ]
  },
  {
   "cell_type": "markdown",
   "metadata": {},
   "source": []
  }
 ],
 "metadata": {
  "kernelspec": {
   "display_name": "Python 3",
   "language": "python",
   "name": "python3"
  },
  "language_info": {
   "codemirror_mode": {
    "name": "ipython",
    "version": 3
   },
   "file_extension": ".py",
   "mimetype": "text/x-python",
   "name": "python",
   "nbconvert_exporter": "python",
   "pygments_lexer": "ipython3",
   "version": "3.7.11 (default, Jul 27 2021, 07:03:16) \n[Clang 10.0.0 ]"
  },
  "vscode": {
   "interpreter": {
    "hash": "40d3a090f54c6569ab1632332b64b2c03c39dcf918b08424e98f38b5ae0af88f"
   }
  }
 },
 "nbformat": 4,
 "nbformat_minor": 2
}
